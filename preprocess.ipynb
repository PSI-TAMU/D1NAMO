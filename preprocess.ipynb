{
 "cells": [
  {
   "cell_type": "code",
   "execution_count": 1,
   "metadata": {},
   "outputs": [],
   "source": [
    "import os\n",
    "import glob\n",
    "import tqdm\n",
    "import pickle\n",
    "import pandas as pd\n",
    "import matplotlib.pyplot as plt"
   ]
  },
  {
   "cell_type": "code",
   "execution_count": 2,
   "metadata": {},
   "outputs": [],
   "source": [
    "os.makedirs('processed', exist_ok=True)"
   ]
  },
  {
   "cell_type": "code",
   "execution_count": null,
   "metadata": {},
   "outputs": [
    {
     "name": "stdout",
     "output_type": "stream",
     "text": [
      "Processing subject 001...\n"
     ]
    },
    {
     "name": "stderr",
     "output_type": "stream",
     "text": [
      "100%|██████████| 1413/1413 [05:56<00:00,  3.96it/s]\n"
     ]
    },
    {
     "name": "stdout",
     "output_type": "stream",
     "text": [
      "Processing subject 002...\n"
     ]
    },
    {
     "name": "stderr",
     "output_type": "stream",
     "text": [
      "100%|██████████| 1056/1056 [05:12<00:00,  3.38it/s]\n"
     ]
    },
    {
     "name": "stdout",
     "output_type": "stream",
     "text": [
      "Processing subject 003...\n"
     ]
    },
    {
     "name": "stderr",
     "output_type": "stream",
     "text": [
      "100%|██████████| 183/183 [01:10<00:00,  2.60it/s]\n"
     ]
    },
    {
     "name": "stdout",
     "output_type": "stream",
     "text": [
      "Processing subject 004...\n"
     ]
    },
    {
     "name": "stderr",
     "output_type": "stream",
     "text": [
      "100%|██████████| 969/969 [04:46<00:00,  3.39it/s]\n"
     ]
    },
    {
     "name": "stdout",
     "output_type": "stream",
     "text": [
      "Processing subject 005...\n"
     ]
    },
    {
     "name": "stderr",
     "output_type": "stream",
     "text": [
      "100%|██████████| 909/909 [04:52<00:00,  3.11it/s]\n"
     ]
    },
    {
     "name": "stdout",
     "output_type": "stream",
     "text": [
      "Processing subject 006...\n"
     ]
    },
    {
     "name": "stderr",
     "output_type": "stream",
     "text": [
      "100%|██████████| 1280/1280 [06:47<00:00,  3.14it/s]\n"
     ]
    },
    {
     "name": "stdout",
     "output_type": "stream",
     "text": [
      "Processing subject 007...\n"
     ]
    },
    {
     "name": "stderr",
     "output_type": "stream",
     "text": [
      "100%|██████████| 988/988 [06:24<00:00,  2.57it/s]\n"
     ]
    },
    {
     "name": "stdout",
     "output_type": "stream",
     "text": [
      "Processing subject 008...\n"
     ]
    },
    {
     "name": "stderr",
     "output_type": "stream",
     "text": [
      "100%|██████████| 1140/1140 [06:44<00:00,  2.82it/s]\n"
     ]
    },
    {
     "name": "stdout",
     "output_type": "stream",
     "text": [
      "Processing subject 009...\n"
     ]
    },
    {
     "name": "stderr",
     "output_type": "stream",
     "text": [
      "100%|██████████| 117/117 [00:49<00:00,  2.36it/s]\n"
     ]
    }
   ],
   "source": [
    "for subject_id in sorted(glob.glob('raw_data/diabetes_subset_ecg_data/diabetes_subset_ecg_data/*')):\n",
    "    subject_id = os.path.basename(subject_id)\n",
    "    glucose_df = pd.read_csv(os.path.join('raw_data/diabetes_subset_pictures-glucose-food-insulin/diabetes_subset_pictures-glucose-food-insulin', subject_id, 'glucose.csv'))\n",
    "    ecg_paths = sorted(glob.glob(os.path.join('raw_data/diabetes_subset_ecg_data/diabetes_subset_ecg_data', subject_id, 'sensor_data', '*', '*.csv')))\n",
    "    summary_paths = sorted(glob.glob(os.path.join('raw_data/diabetes_subset_sensor_data/diabetes_subset_sensor_data', subject_id, 'sensor_data', '*', '*_Summary.csv')))\n",
    "\n",
    "    ecg_df = []\n",
    "    for ecg_path in ecg_paths:\n",
    "        ecg_df.append(pd.read_csv(ecg_path))\n",
    "    ecg_df = pd.concat(ecg_df, ignore_index=True)\n",
    "    ecg_df['Time'] = pd.to_datetime(ecg_df['Time'], format='%d/%m/%Y %H:%M:%S.%f')\n",
    "    ecg_df = ecg_df.sort_values('Time')\n",
    "\n",
    "    summary_df = []\n",
    "    for summary_path in summary_paths:\n",
    "        summary_df.append(pd.read_csv(summary_path))\n",
    "    summary_df = pd.concat(summary_df, ignore_index=True)\n",
    "    summary_df['Time'] = pd.to_datetime(summary_df['Time'], format='%d/%m/%Y %H:%M:%S.%f')\n",
    "    summary_df = summary_df.sort_values('Time')\n",
    "\n",
    "    glucose_df = glucose_df[glucose_df['type'] == 'cgm']\n",
    "    glucose_df['Time'] = pd.to_datetime(glucose_df['date'] + ' ' + glucose_df['time'], format='%Y-%m-%d %H:%M:%S')\n",
    "\n",
    "    print(f'Processing subject {subject_id}...')\n",
    "    for i in tqdm.tqdm(range(glucose_df.shape[0])):\n",
    "        out = {}\n",
    "        timestamp = glucose_df['Time'].iloc[i]\n",
    "        previous_timestamp = timestamp - pd.Timedelta(seconds=60*5)\n",
    "        \n",
    "        # find ecg time within the range\n",
    "        ecg_time = ecg_df[(ecg_df['Time'] >= previous_timestamp) & (ecg_df['Time'] <= timestamp)]\n",
    "        if ecg_time.shape[0] == 0:\n",
    "            # print(f'No ECG data found for CGM index {i} at timestamp {timestamp}')\n",
    "            continue\n",
    "\n",
    "        summary = summary_df[(summary_df['Time'] >= previous_timestamp) & (summary_df['Time'] <= timestamp)]\n",
    "        \n",
    "        out = {\n",
    "            'Index': i,\n",
    "            'Timestamp': timestamp,\n",
    "            'glucose': glucose_df['glucose'].iloc[i] * 70.0 / 3.88,\n",
    "            'zephyr': {\n",
    "                'ECG': {\n",
    "                    'Time': ecg_time['Time'].tolist(),\n",
    "                    'EcgWaveform': ecg_time['EcgWaveform'].tolist(),\n",
    "                },\n",
    "                'Summary': {\n",
    "                    'Time': summary['Time'].tolist(),\n",
    "                    'HR': summary['HR'].tolist(),\n",
    "                    'BR': summary['BR'].tolist(),\n",
    "                    'Posture': summary['Posture'].tolist(),\n",
    "                    'Activity': summary['Activity'].tolist(),\n",
    "                    'HRConfidence': summary['HRConfidence'].tolist(),\n",
    "                    'ECGNoise': summary['ECGNoise'].tolist(),\n",
    "                }\n",
    "            }\n",
    "        }\n",
    "\n",
    "        sample_out_dir = os.path.join('processed', 'c1s{}'.format(subject_id))\n",
    "        os.makedirs(sample_out_dir, exist_ok=True)\n",
    "        with open(os.path.join(sample_out_dir, f'{i}.pkl'), 'wb') as f:\n",
    "            pickle.dump(out, f)\n"
   ]
  },
  {
   "cell_type": "code",
   "execution_count": null,
   "metadata": {},
   "outputs": [],
   "source": []
  }
 ],
 "metadata": {
  "kernelspec": {
   "display_name": "ecg",
   "language": "python",
   "name": "python3"
  },
  "language_info": {
   "codemirror_mode": {
    "name": "ipython",
    "version": 3
   },
   "file_extension": ".py",
   "mimetype": "text/x-python",
   "name": "python",
   "nbconvert_exporter": "python",
   "pygments_lexer": "ipython3",
   "version": "3.11.5"
  }
 },
 "nbformat": 4,
 "nbformat_minor": 2
}
